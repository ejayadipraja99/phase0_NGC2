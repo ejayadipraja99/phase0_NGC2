{
 "cells": [
  {
   "cell_type": "markdown",
   "metadata": {},
   "source": [
    "# Task 1 **Number of Word**\n",
    "\n",
    "**Create a function that count the number of word in a sentence.**\n",
    "\n",
    "*Instrunction:*\n",
    "1. Create function called `number_of_word`.\n",
    "2. This function takes 1 input, `sentence`.\n",
    "3. Inside this function, you can utilize `.split()` method to split the sentence into list of word(s).\n",
    "4. Also, `len()` function to count the element inside a list.\n",
    "5. Return the number of word from the sentence.\n",
    "\n",
    "*Example:*\n",
    "- Input: number_of_word(sentence = ’Hello World!’)\n",
    "- Output: 2\n",
    "\n",
    "- Input: number_of_word(sentence = ’Once Upon a Time in a faraway land’)\n",
    "- Output: 8"
   ]
  },
  {
   "cell_type": "code",
   "execution_count": 11,
   "metadata": {},
   "outputs": [
    {
     "name": "stdout",
     "output_type": "stream",
     "text": [
      "8\n"
     ]
    }
   ],
   "source": [
    "def number_of_word(sentence):\n",
    "\n",
    "    word = len(sentence.split())\n",
    "    return word\n",
    "\n",
    "print(number_of_word('Once Upon a Time in a faraway land'))\n"
   ]
  },
  {
   "cell_type": "markdown",
   "metadata": {},
   "source": [
    "# Task 2 **Find Multiple**\n",
    "\n",
    "**Create a function that will get list of number(s) from a certain range that multiples of given number.**\n",
    "\n",
    "*Instruction:*\n",
    "1. Create function called `find_multiples`.\n",
    "2. This function takes 3 input: `start_range`, `end_range`, and `multiple`.\n",
    "3. From every number within the given range, check if that number is the mutliples of `multiple`.\n",
    "4. Return list of the possible multiple number(s).\n",
    "\n",
    "*Example:*\n",
    "- Input: find_multiple(start_range= 1, end_range= 20, multiple= 5)\n",
    "- Output: [5, 10, 15, 20]\n",
    "\n",
    "- Input: find_multiple(start_range= 1, end_range= 50, multiple= 10)\n",
    "- Output: [10, 20, 30, 40, 50]\n"
   ]
  },
  {
   "cell_type": "code",
   "execution_count": 12,
   "metadata": {},
   "outputs": [
    {
     "name": "stdout",
     "output_type": "stream",
     "text": [
      "[10, 20, 30, 40, 50]\n"
     ]
    }
   ],
   "source": [
    "def find_multiples(start_range, end_range, multiple):\n",
    "    \n",
    "    hasil = []\n",
    "    for i in range(start_range, end_range+1):\n",
    "        if i % multiple == 0:\n",
    "            hasil.append(i)\n",
    "    return hasil\n",
    "\n",
    "print(find_multiples(1, 50, 10))"
   ]
  },
  {
   "cell_type": "markdown",
   "metadata": {},
   "source": [
    "# Task 3 **Grade Converter**\n",
    "\n",
    "**Create a function that will convert student’s grade to GPA.**\n",
    "\n",
    "*Instruction:*\n",
    "1. Create function called `Grade_Converter`.\n",
    "2. This function takes input: `convert_to` and n-paired of student(s) name with its respective score.\n",
    "3. Input argument for `convert_to` is either `letter_grade` or `gpa`.\n",
    "4. You can utilize **kwargs input argument to generate n-length paired of student(s) name with its respective score (Dictionary).\n",
    "5. This function will return dictionary of student’s name along with converted Letter Grade or GPA, depending on user input in `convert_to` parameter.\n",
    "\n",
    "\n",
    "|**Score**|**Letter Grade**|**GPA 4.0 Scale**|\n",
    "|:-------:|:--------------:|:---------------:|\n",
    "|85 - 100|A|4|\n",
    "|75 - 84.99|B|3|\n",
    "|60 - 69.99|C|2.5|\n",
    "|50 - 59.99|D|2|\n",
    "|40 - 49.99|E|1.5|\n",
    "|0 - 39.99|F|1|\n",
    "\n",
    "\n",
    "*Example:*\n",
    "- Input: Grade_Converter(convert_to='gpa', Adam=62, Faiz=91)\n",
    "- Output: {'Adam': 2.5, 'Faiz': 4}\n",
    "\n",
    "- Input: Grade_Converter(convert_to='letter_grade', Albert=90, Dwi=82, Syahdan=58, Veronica=84)\n",
    "- Output: {'Albert': 'A', 'Dwi': 'B', 'Syahdan': 'D','Veronica': 'B'}"
   ]
  },
  {
   "cell_type": "code",
   "execution_count": 10,
   "metadata": {},
   "outputs": [
    {
     "name": "stdout",
     "output_type": "stream",
     "text": [
      "{'Albert': 'A', 'Dwi': 'B', 'Syahdan': 'D', 'Veronica': 'B'}\n",
      "{'Adam': 2.5, 'Faiz': 4.0}\n"
     ]
    }
   ],
   "source": [
    "def Grade_Converter(target, **kwargs):\n",
    "    \n",
    "    if target == 'gpa':\n",
    "        for name, score in kwargs.items():\n",
    "            if score >= 85 <= 100:\n",
    "                kwargs[name] = 4.0\n",
    "            elif score >= 75 <= 84.99:\n",
    "                kwargs[name] = 3\n",
    "            elif score >= 60 <= 69.99:\n",
    "                kwargs[name] = 2.5\n",
    "            elif score >= 50 <= 59.99:\n",
    "                kwargs[name] = 2\n",
    "            elif score >= 40 <= 49.99:\n",
    "                kwargs[name] = 1.5\n",
    "            elif score >= 0 <= 39.99:\n",
    "                kwargs[name] = 1\n",
    "        return kwargs\n",
    "    \n",
    "    elif target == 'letter_grade':\n",
    "        for name, score in kwargs.items():\n",
    "            if score >= 85 <= 100:\n",
    "                kwargs[name] = 'A'\n",
    "            elif score >= 75 <= 84.99:\n",
    "                kwargs[name] = 'B'\n",
    "            elif score >= 60 <= 69.99:\n",
    "                kwargs[name] = 'C'\n",
    "            elif score >= 50 <= 59.99:\n",
    "                kwargs[name] = 'D'\n",
    "            elif score >= 40 <= 49.99:\n",
    "                kwargs[name] = 'E'\n",
    "            elif score >= 0 <= 39.99:\n",
    "                kwargs[name] = 'F'\n",
    "        return kwargs\n",
    "    \n",
    "    else:\n",
    "        print('Invalid target!')\n",
    "        return name\n",
    "    \n",
    "print(Grade_Converter('letter_grade', Albert=90, Dwi=82, Syahdan=58, Veronica=84))\n",
    "print(Grade_Converter('gpa', Adam=62, Faiz=91))"
   ]
  },
  {
   "cell_type": "markdown",
   "metadata": {},
   "source": [
    "# Task 4 **Fibonacci Sequence**\n",
    "\n",
    "Fibonacci sequence is a sequence in which each number is the sum of the two preceding ones. Suppose we have fibonacci sequence started with:\n",
    "\n",
    "0, 1, 1, 2, 3, 5, ...\n",
    "\n",
    "The next number should be **8** or sum of the two precedings, 3 and 5:\n",
    "\n",
    "0, 1, 1, 2, 3, 5, **8**, ...\n",
    "\n",
    "Then the next number should be **13** or sum of the two precedings, 5 and 8:\n",
    "\n",
    "0, 1, 1, 2, 3, 5, 8, **13**,  ...\n",
    "\n",
    "And so on.\n",
    "\n",
    "**Create a function that will return the value of n-th fibonacci number.**\n",
    "\n",
    "*Instruction:*\n",
    "1. The function will take 1 input parameter, n, represents the asked number from our fibonacci sequence index.\n",
    "2. The fibonacci sequence will start with the value of 0 and 1.\n",
    "3. This function will return the n-th value from fibonacci sequence.\n",
    "\n",
    "*example:*\n",
    "\n",
    "|Fibo_seq|0|1|1|2|3|5|8|13|21|34|55|...|\n",
    "|:-:|:-:|:-:|:-:|:-:|:-:|:-:|:-:|:-:|:-:|:-:|:-:|:-:|\n",
    "|*n*-th|0|1|2|3|4|5|6|7|8|9|10|...|\n",
    "\n",
    "- Input: my_function(n=0)\n",
    "- Output: 0\n",
    "\n",
    "- Input: my_function(n=4)\n",
    "- Output: 3\n",
    "\n",
    "- Input: my_function(n=10)\n",
    "- Output: 55\n",
    "\n",
    "\n"
   ]
  },
  {
   "cell_type": "code",
   "execution_count": 15,
   "metadata": {},
   "outputs": [
    {
     "name": "stdout",
     "output_type": "stream",
     "text": [
      "0\n",
      "Not a Fibonacci number\n",
      "5\n",
      "10\n"
     ]
    }
   ],
   "source": [
    "def fibonaci_number(n):\n",
    "    # Edge Cases    \n",
    "    if n == 0: # If n is equal to 0\n",
    "        return 0 # Then return 0\n",
    "    elif n == 1: # If n is equal to 1\n",
    "        return 1 # Then return 1\n",
    "    \n",
    "    a,b = 0, 1 # Initialize the first two numbers in the Fibonacci sequence: a = 0 and b = 1\n",
    "    position = 1 # Iniialize the Fibonacci sequence position, starting from 1 because we've already considered n=0 and n=1\n",
    "\n",
    "    while b <= n: # As long as the value of b <= n\n",
    "        a, b = b, a + b # Update the values of a and b, a becomes b, and b becomes a + b\n",
    "        position += 1 # Add 1 to the position since we've advanced one step in the Fobonacci sequence\n",
    "        if b == n: # If b is equal to n (meaning we've found n in the Fibonacci sequence)\n",
    "            return position #Then return the current position\n",
    "        \n",
    "    return \"Not a Fibonacci number\" # If the loop completes and we haven't found n in the sequence, return \"Not a fibonacci number\"\n",
    "\n",
    "# Testing the function with the provided examples\n",
    "print(fibonaci_number(n=0)) # Expected Output :0\n",
    "print(fibonaci_number(n=4)) # This will return \"Not a Fibonacci number\"\n",
    "print(fibonaci_number(n=5)) # Expected Output :0\n",
    "print(fibonaci_number(n=55)) # Expected Output :10"
   ]
  }
 ],
 "metadata": {
  "kernelspec": {
   "display_name": "base",
   "language": "python",
   "name": "python3"
  },
  "language_info": {
   "codemirror_mode": {
    "name": "ipython",
    "version": 3
   },
   "file_extension": ".py",
   "mimetype": "text/x-python",
   "name": "python",
   "nbconvert_exporter": "python",
   "pygments_lexer": "ipython3",
   "version": "3.11.4"
  }
 },
 "nbformat": 4,
 "nbformat_minor": 2
}
